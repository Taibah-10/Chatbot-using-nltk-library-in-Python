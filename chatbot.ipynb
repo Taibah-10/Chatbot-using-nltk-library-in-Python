{
  "nbformat": 4,
  "nbformat_minor": 0,
  "metadata": {
    "colab": {
      "name": "chatbot.ipynb",
      "provenance": [],
      "authorship_tag": "ABX9TyM5/rq3EdwOPi7sY0t/QweJ",
      "include_colab_link": true
    },
    "kernelspec": {
      "name": "python3",
      "display_name": "Python 3"
    },
    "language_info": {
      "name": "python"
    }
  },
  "cells": [
    {
      "cell_type": "markdown",
      "metadata": {
        "id": "view-in-github",
        "colab_type": "text"
      },
      "source": [
        "<a href=\"https://colab.research.google.com/github/Taibah-10/Chatbot-using-nltk-library-in-Python/blob/main/chatbot.ipynb\" target=\"_parent\"><img src=\"https://colab.research.google.com/assets/colab-badge.svg\" alt=\"Open In Colab\"/></a>"
      ]
    },
    {
      "cell_type": "code",
      "execution_count": 109,
      "metadata": {
        "id": "qgI_bcvoeQzX"
      },
      "outputs": [],
      "source": [
        "import numpy as np\n",
        "import nltk\n",
        "import random\n",
        "import string\n",
        "import warnings\n",
        "warnings.filterwarnings('ignore')"
      ]
    },
    {
      "cell_type": "code",
      "source": [
        "file = open('chatbot.txt', 'r', errors='ignore')\n",
        "raw = file.read()\n",
        "raw = raw.lower() #convert all letters to lowercase"
      ],
      "metadata": {
        "id": "d7ghaJmee13F"
      },
      "execution_count": 110,
      "outputs": []
    },
    {
      "cell_type": "code",
      "source": [
        "nltk.download('punkt')  #The NLTK data package includes a pre-trained Punkt tokenizer for English.\n",
        "nltk.download('wordnet') #It is a large word database of English Nouns, Adjectives, Adverbs and Verbs. These are grouped into some set of cognitive synonyms, which are called synsets."
      ],
      "metadata": {
        "colab": {
          "base_uri": "https://localhost:8080/"
        },
        "id": "jv0IjXUPffIK",
        "outputId": "f9a4c310-1f30-47ea-fc8c-db0280eed1bd"
      },
      "execution_count": 111,
      "outputs": [
        {
          "output_type": "stream",
          "name": "stdout",
          "text": [
            "[nltk_data] Downloading package punkt to /root/nltk_data...\n",
            "[nltk_data]   Package punkt is already up-to-date!\n",
            "[nltk_data] Downloading package wordnet to /root/nltk_data...\n",
            "[nltk_data]   Package wordnet is already up-to-date!\n"
          ]
        },
        {
          "output_type": "execute_result",
          "data": {
            "text/plain": [
              "True"
            ]
          },
          "metadata": {},
          "execution_count": 111
        }
      ]
    },
    {
      "cell_type": "code",
      "source": [
        "#tokenization\n",
        "sent_token = nltk.sent_tokenize(raw) #converts to list of sentences\n",
        "word_token = nltk.word_tokenize(raw) #converts to list of words"
      ],
      "metadata": {
        "id": "ib5Uzj1Tf98M"
      },
      "execution_count": 112,
      "outputs": []
    },
    {
      "cell_type": "code",
      "source": [
        "print(sent_token[:2])\n",
        "print(word_token[:2])"
      ],
      "metadata": {
        "colab": {
          "base_uri": "https://localhost:8080/"
        },
        "id": "okumpJ0bgYUx",
        "outputId": "b10985de-2134-4f50-9fda-a6331ed50895"
      },
      "execution_count": 113,
      "outputs": [
        {
          "output_type": "stream",
          "name": "stdout",
          "text": [
            "['a chatbot or chatterbot is a software application used to conduct an on-line chat conversation via text or text-to-speech, in lieu of providing direct contact with a live human agent.', '[1][2]a chatbot is a type of software that can help customers by automating conversations and interact with them through messaging platforms.']\n",
            "['a', 'chatbot']\n"
          ]
        }
      ]
    },
    {
      "cell_type": "code",
      "source": [
        "#preprocessing as a whole\n",
        "lemmer = nltk.stem.WordNetLemmatizer()\n",
        "def lemmatize_tokens(tokens):\n",
        "  return [lemmer.lemmatize(token) for token in tokens]\n",
        "\n",
        "remove_punct_dict = dict((ord(punct), None) for punct in string.punctuation) #creates a dictionary with keys as unicode values of punctuation marks and values as none \n",
        "\n",
        "def lemmatization(text):\n",
        "  return lemmatize_tokens(nltk.word_tokenize(text.lower().translate(remove_punct_dict))) #convert to tokens and pass into the function\n"
      ],
      "metadata": {
        "id": "GsDJCKC5guCu"
      },
      "execution_count": 114,
      "outputs": []
    },
    {
      "cell_type": "code",
      "source": [
        "#greeting by bot\n",
        "greeting_input = [\"hello\", \"hi\", \"hey\", \"heyya\", \"heyy\", \"greetings\", \"what's up\", \"sup\"]\n",
        "greeting_response = [\"hello\", \"hi\", \"hey\", \"hi there!\", \"I'm glad! You are talking to me.\"]\n",
        "def greet(sentence):\n",
        "  words = sentence.split()\n",
        "  for word in words:\n",
        "    if(word.lower() in greeting_input):\n",
        "      return random.choice(greeting_response)"
      ],
      "metadata": {
        "id": "TfPb3piPueHx"
      },
      "execution_count": 115,
      "outputs": []
    },
    {
      "cell_type": "code",
      "source": [
        "#generating response\n",
        "from sklearn.feature_extraction.text import TfidfVectorizer\n",
        "from sklearn.metrics.pairwise import cosine_similarity\n",
        "\n",
        "def response(user_response):\n",
        "    bot_response=''\n",
        "    sent_token.append(user_response)\n",
        "    TfidfVec = TfidfVectorizer(tokenizer=lemmatization, stop_words='english')\n",
        "    tfidf = TfidfVec.fit_transform(sent_token)\n",
        "    vals = cosine_similarity(tfidf[-1], tfidf)\n",
        "    idx = vals.argsort()[0][-2] # sorts returning indices\n",
        "    flat = vals.flatten()\n",
        "    flat.sort()\n",
        "    req_tfidf = flat[-2]\n",
        "    if(req_tfidf==0):\n",
        "      bot_response+=\"I am sorry, I don't understand you\"\n",
        "    else:\n",
        "      bot_response+=sent_token[idx]\n",
        "    sent_token.remove(user_response)\n",
        "    return bot_response"
      ],
      "metadata": {
        "id": "a3AE2ykOvu_r"
      },
      "execution_count": 118,
      "outputs": []
    },
    {
      "cell_type": "code",
      "source": [
        "flag=True\n",
        "print(\"Bot: Hello, I'm here to solve all your queries about chatbots. If you want to exit type - 'Bye' \")\n",
        "while(flag):\n",
        "  user_response=input(\"You: \")\n",
        "  user_response=user_response.lower().translate(remove_punct_dict)\n",
        "  if(user_response == 'bye'):\n",
        "    flag=False\n",
        "    print(\"Bot: Bye! take care...\")\n",
        "  elif (user_response == 'thanks' or user_response == 'thank you'):\n",
        "    flag=False\n",
        "    print(\"Bot: You're Welcome!\")\n",
        "  else:\n",
        "    if(greet(user_response)!=None):\n",
        "      print(\"Bot: \" + greet(user_response))\n",
        "    else:\n",
        "      print(\"Bot: \" + response(user_response))"
      ],
      "metadata": {
        "colab": {
          "base_uri": "https://localhost:8080/"
        },
        "id": "RjialevtJOKP",
        "outputId": "cd25fbd8-2b4f-4328-ad5e-5f0dee44d1df"
      },
      "execution_count": 119,
      "outputs": [
        {
          "output_type": "stream",
          "name": "stdout",
          "text": [
            "Bot: Hello, I'm here to solve all your queries about chatbots. If you want to exit type - 'Bye' \n",
            "You: hi\n",
            "Bot: hey\n",
            "You: Can you tell me what is chatbot\n",
            "Bot: [1][2]a chatbot is a type of software that can help customers by automating conversations and interact with them through messaging platforms.\n",
            "You: thanks\n",
            "Bot: You're Welcome!\n"
          ]
        }
      ]
    }
  ]
}